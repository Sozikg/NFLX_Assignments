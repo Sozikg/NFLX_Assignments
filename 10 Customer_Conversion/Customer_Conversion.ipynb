{
  "cells": [
    {
      "cell_type": "code",
      "source": [
        "from google.colab import drive\n",
        "drive.mount('/content/drive')"
      ],
      "metadata": {
        "colab": {
          "base_uri": "https://localhost:8080/"
        },
        "id": "v3JJjag5RaHh",
        "outputId": "1b3ad0a3-7f59-40dc-eb35-520a9a9a750e"
      },
      "execution_count": 1,
      "outputs": [
        {
          "output_type": "stream",
          "name": "stdout",
          "text": [
            "Mounted at /content/drive\n"
          ]
        }
      ]
    },
    {
      "cell_type": "code",
      "execution_count": 2,
      "metadata": {
        "id": "o2WkYIsWQZF8"
      },
      "outputs": [],
      "source": [
        "# Import the dependencies\n",
        "import pandas as pd\n",
        "from sklearn.model_selection import train_test_split\n",
        "from sklearn.linear_model import LogisticRegression\n",
        "from sklearn.metrics import confusion_matrix, accuracy_score, classification_report"
      ]
    },
    {
      "cell_type": "code",
      "execution_count": 3,
      "metadata": {
        "id": "ljk8EPSqQZF_"
      },
      "outputs": [],
      "source": [
        "# Read the CSV into a DataFrame\n",
        "df_sales = pd.read_csv(\n",
        "    \"/content/drive/My Drive/colab_files/sales.csv\")"
      ]
    },
    {
      "cell_type": "code",
      "source": [
        "df_sales.head()"
      ],
      "metadata": {
        "colab": {
          "base_uri": "https://localhost:8080/",
          "height": 206
        },
        "id": "wgsr1991SAdq",
        "outputId": "50c1c41b-e526-42b6-a9f9-28658afffdc5"
      },
      "execution_count": 4,
      "outputs": [
        {
          "output_type": "execute_result",
          "data": {
            "text/plain": [
              "   PageVisitsCat1  PageVisitDurationCat1  PageVisitsCat2  \\\n",
              "0             0.0                    0.0             0.0   \n",
              "1             0.0                    0.0             0.0   \n",
              "2             0.0                    0.0             0.0   \n",
              "3             0.0                    0.0             0.0   \n",
              "4             0.0                    0.0             0.0   \n",
              "\n",
              "   PageVisitDurationCat2  PageVisitsCat3  PageVisitDurationCat3  BounceRates  \\\n",
              "0                    0.0             1.0               0.000000     0.200000   \n",
              "1                    0.0             2.0              64.000000     0.000000   \n",
              "2                    0.0             2.0               2.666667     0.050000   \n",
              "3                    0.0            10.0             627.500000     0.020000   \n",
              "4                    0.0            19.0             154.216667     0.015789   \n",
              "\n",
              "   ExitRates  PageValues  HowCloseToSpecialDay Month        VisitorType  \\\n",
              "0   0.200000         0.0                   0.0   Feb  Returning_Visitor   \n",
              "1   0.100000         0.0                   0.0   Feb  Returning_Visitor   \n",
              "2   0.140000         0.0                   0.0   Feb  Returning_Visitor   \n",
              "3   0.050000         0.0                   0.0   Feb  Returning_Visitor   \n",
              "4   0.024561         0.0                   0.0   Feb  Returning_Visitor   \n",
              "\n",
              "   Weekend  Revenue  \n",
              "0    False    False  \n",
              "1    False    False  \n",
              "2    False    False  \n",
              "3     True    False  \n",
              "4    False    False  "
            ],
            "text/html": [
              "\n",
              "  <div id=\"df-3f5015eb-80f8-4da7-a72c-adca87c8bd51\">\n",
              "    <div class=\"colab-df-container\">\n",
              "      <div>\n",
              "<style scoped>\n",
              "    .dataframe tbody tr th:only-of-type {\n",
              "        vertical-align: middle;\n",
              "    }\n",
              "\n",
              "    .dataframe tbody tr th {\n",
              "        vertical-align: top;\n",
              "    }\n",
              "\n",
              "    .dataframe thead th {\n",
              "        text-align: right;\n",
              "    }\n",
              "</style>\n",
              "<table border=\"1\" class=\"dataframe\">\n",
              "  <thead>\n",
              "    <tr style=\"text-align: right;\">\n",
              "      <th></th>\n",
              "      <th>PageVisitsCat1</th>\n",
              "      <th>PageVisitDurationCat1</th>\n",
              "      <th>PageVisitsCat2</th>\n",
              "      <th>PageVisitDurationCat2</th>\n",
              "      <th>PageVisitsCat3</th>\n",
              "      <th>PageVisitDurationCat3</th>\n",
              "      <th>BounceRates</th>\n",
              "      <th>ExitRates</th>\n",
              "      <th>PageValues</th>\n",
              "      <th>HowCloseToSpecialDay</th>\n",
              "      <th>Month</th>\n",
              "      <th>VisitorType</th>\n",
              "      <th>Weekend</th>\n",
              "      <th>Revenue</th>\n",
              "    </tr>\n",
              "  </thead>\n",
              "  <tbody>\n",
              "    <tr>\n",
              "      <th>0</th>\n",
              "      <td>0.0</td>\n",
              "      <td>0.0</td>\n",
              "      <td>0.0</td>\n",
              "      <td>0.0</td>\n",
              "      <td>1.0</td>\n",
              "      <td>0.000000</td>\n",
              "      <td>0.200000</td>\n",
              "      <td>0.200000</td>\n",
              "      <td>0.0</td>\n",
              "      <td>0.0</td>\n",
              "      <td>Feb</td>\n",
              "      <td>Returning_Visitor</td>\n",
              "      <td>False</td>\n",
              "      <td>False</td>\n",
              "    </tr>\n",
              "    <tr>\n",
              "      <th>1</th>\n",
              "      <td>0.0</td>\n",
              "      <td>0.0</td>\n",
              "      <td>0.0</td>\n",
              "      <td>0.0</td>\n",
              "      <td>2.0</td>\n",
              "      <td>64.000000</td>\n",
              "      <td>0.000000</td>\n",
              "      <td>0.100000</td>\n",
              "      <td>0.0</td>\n",
              "      <td>0.0</td>\n",
              "      <td>Feb</td>\n",
              "      <td>Returning_Visitor</td>\n",
              "      <td>False</td>\n",
              "      <td>False</td>\n",
              "    </tr>\n",
              "    <tr>\n",
              "      <th>2</th>\n",
              "      <td>0.0</td>\n",
              "      <td>0.0</td>\n",
              "      <td>0.0</td>\n",
              "      <td>0.0</td>\n",
              "      <td>2.0</td>\n",
              "      <td>2.666667</td>\n",
              "      <td>0.050000</td>\n",
              "      <td>0.140000</td>\n",
              "      <td>0.0</td>\n",
              "      <td>0.0</td>\n",
              "      <td>Feb</td>\n",
              "      <td>Returning_Visitor</td>\n",
              "      <td>False</td>\n",
              "      <td>False</td>\n",
              "    </tr>\n",
              "    <tr>\n",
              "      <th>3</th>\n",
              "      <td>0.0</td>\n",
              "      <td>0.0</td>\n",
              "      <td>0.0</td>\n",
              "      <td>0.0</td>\n",
              "      <td>10.0</td>\n",
              "      <td>627.500000</td>\n",
              "      <td>0.020000</td>\n",
              "      <td>0.050000</td>\n",
              "      <td>0.0</td>\n",
              "      <td>0.0</td>\n",
              "      <td>Feb</td>\n",
              "      <td>Returning_Visitor</td>\n",
              "      <td>True</td>\n",
              "      <td>False</td>\n",
              "    </tr>\n",
              "    <tr>\n",
              "      <th>4</th>\n",
              "      <td>0.0</td>\n",
              "      <td>0.0</td>\n",
              "      <td>0.0</td>\n",
              "      <td>0.0</td>\n",
              "      <td>19.0</td>\n",
              "      <td>154.216667</td>\n",
              "      <td>0.015789</td>\n",
              "      <td>0.024561</td>\n",
              "      <td>0.0</td>\n",
              "      <td>0.0</td>\n",
              "      <td>Feb</td>\n",
              "      <td>Returning_Visitor</td>\n",
              "      <td>False</td>\n",
              "      <td>False</td>\n",
              "    </tr>\n",
              "  </tbody>\n",
              "</table>\n",
              "</div>\n",
              "      <button class=\"colab-df-convert\" onclick=\"convertToInteractive('df-3f5015eb-80f8-4da7-a72c-adca87c8bd51')\"\n",
              "              title=\"Convert this dataframe to an interactive table.\"\n",
              "              style=\"display:none;\">\n",
              "        \n",
              "  <svg xmlns=\"http://www.w3.org/2000/svg\" height=\"24px\"viewBox=\"0 0 24 24\"\n",
              "       width=\"24px\">\n",
              "    <path d=\"M0 0h24v24H0V0z\" fill=\"none\"/>\n",
              "    <path d=\"M18.56 5.44l.94 2.06.94-2.06 2.06-.94-2.06-.94-.94-2.06-.94 2.06-2.06.94zm-11 1L8.5 8.5l.94-2.06 2.06-.94-2.06-.94L8.5 2.5l-.94 2.06-2.06.94zm10 10l.94 2.06.94-2.06 2.06-.94-2.06-.94-.94-2.06-.94 2.06-2.06.94z\"/><path d=\"M17.41 7.96l-1.37-1.37c-.4-.4-.92-.59-1.43-.59-.52 0-1.04.2-1.43.59L10.3 9.45l-7.72 7.72c-.78.78-.78 2.05 0 2.83L4 21.41c.39.39.9.59 1.41.59.51 0 1.02-.2 1.41-.59l7.78-7.78 2.81-2.81c.8-.78.8-2.07 0-2.86zM5.41 20L4 18.59l7.72-7.72 1.47 1.35L5.41 20z\"/>\n",
              "  </svg>\n",
              "      </button>\n",
              "      \n",
              "  <style>\n",
              "    .colab-df-container {\n",
              "      display:flex;\n",
              "      flex-wrap:wrap;\n",
              "      gap: 12px;\n",
              "    }\n",
              "\n",
              "    .colab-df-convert {\n",
              "      background-color: #E8F0FE;\n",
              "      border: none;\n",
              "      border-radius: 50%;\n",
              "      cursor: pointer;\n",
              "      display: none;\n",
              "      fill: #1967D2;\n",
              "      height: 32px;\n",
              "      padding: 0 0 0 0;\n",
              "      width: 32px;\n",
              "    }\n",
              "\n",
              "    .colab-df-convert:hover {\n",
              "      background-color: #E2EBFA;\n",
              "      box-shadow: 0px 1px 2px rgba(60, 64, 67, 0.3), 0px 1px 3px 1px rgba(60, 64, 67, 0.15);\n",
              "      fill: #174EA6;\n",
              "    }\n",
              "\n",
              "    [theme=dark] .colab-df-convert {\n",
              "      background-color: #3B4455;\n",
              "      fill: #D2E3FC;\n",
              "    }\n",
              "\n",
              "    [theme=dark] .colab-df-convert:hover {\n",
              "      background-color: #434B5C;\n",
              "      box-shadow: 0px 1px 3px 1px rgba(0, 0, 0, 0.15);\n",
              "      filter: drop-shadow(0px 1px 2px rgba(0, 0, 0, 0.3));\n",
              "      fill: #FFFFFF;\n",
              "    }\n",
              "  </style>\n",
              "\n",
              "      <script>\n",
              "        const buttonEl =\n",
              "          document.querySelector('#df-3f5015eb-80f8-4da7-a72c-adca87c8bd51 button.colab-df-convert');\n",
              "        buttonEl.style.display =\n",
              "          google.colab.kernel.accessAllowed ? 'block' : 'none';\n",
              "\n",
              "        async function convertToInteractive(key) {\n",
              "          const element = document.querySelector('#df-3f5015eb-80f8-4da7-a72c-adca87c8bd51');\n",
              "          const dataTable =\n",
              "            await google.colab.kernel.invokeFunction('convertToInteractive',\n",
              "                                                     [key], {});\n",
              "          if (!dataTable) return;\n",
              "\n",
              "          const docLinkHtml = 'Like what you see? Visit the ' +\n",
              "            '<a target=\"_blank\" href=https://colab.research.google.com/notebooks/data_table.ipynb>data table notebook</a>'\n",
              "            + ' to learn more about interactive tables.';\n",
              "          element.innerHTML = '';\n",
              "          dataTable['output_type'] = 'display_data';\n",
              "          await google.colab.output.renderOutput(dataTable, element);\n",
              "          const docLink = document.createElement('div');\n",
              "          docLink.innerHTML = docLinkHtml;\n",
              "          element.appendChild(docLink);\n",
              "        }\n",
              "      </script>\n",
              "    </div>\n",
              "  </div>\n",
              "  "
            ]
          },
          "metadata": {},
          "execution_count": 4
        }
      ]
    },
    {
      "cell_type": "code",
      "execution_count": 5,
      "metadata": {
        "colab": {
          "base_uri": "https://localhost:8080/"
        },
        "id": "470w0kYmQZF_",
        "outputId": "1c0b6033-4232-43c9-ce97-4c527e856319"
      },
      "outputs": [
        {
          "output_type": "execute_result",
          "data": {
            "text/plain": [
              "Index(['PageVisitsCat1', 'PageVisitDurationCat1', 'PageVisitsCat2',\n",
              "       'PageVisitDurationCat2', 'PageVisitsCat3', 'PageVisitDurationCat3',\n",
              "       'BounceRates', 'ExitRates', 'PageValues', 'HowCloseToSpecialDay',\n",
              "       'Month', 'VisitorType', 'Weekend', 'Revenue'],\n",
              "      dtype='object')"
            ]
          },
          "metadata": {},
          "execution_count": 5
        }
      ],
      "source": [
        "# List the columns\n",
        "df_sales.columns"
      ]
    },
    {
      "cell_type": "code",
      "source": [
        "df_sales.info()"
      ],
      "metadata": {
        "colab": {
          "base_uri": "https://localhost:8080/"
        },
        "id": "7WrX-HlnSFTS",
        "outputId": "054f5f17-5ef6-48b4-a010-4c2274b6981d"
      },
      "execution_count": 6,
      "outputs": [
        {
          "output_type": "stream",
          "name": "stdout",
          "text": [
            "<class 'pandas.core.frame.DataFrame'>\n",
            "RangeIndex: 12283 entries, 0 to 12282\n",
            "Data columns (total 14 columns):\n",
            " #   Column                 Non-Null Count  Dtype  \n",
            "---  ------                 --------------  -----  \n",
            " 0   PageVisitsCat1         12283 non-null  float64\n",
            " 1   PageVisitDurationCat1  12283 non-null  float64\n",
            " 2   PageVisitsCat2         12283 non-null  float64\n",
            " 3   PageVisitDurationCat2  12283 non-null  float64\n",
            " 4   PageVisitsCat3         12283 non-null  float64\n",
            " 5   PageVisitDurationCat3  12283 non-null  float64\n",
            " 6   BounceRates            12283 non-null  float64\n",
            " 7   ExitRates              12283 non-null  float64\n",
            " 8   PageValues             12283 non-null  float64\n",
            " 9   HowCloseToSpecialDay   12283 non-null  float64\n",
            " 10  Month                  12283 non-null  object \n",
            " 11  VisitorType            12283 non-null  object \n",
            " 12  Weekend                12283 non-null  bool   \n",
            " 13  Revenue                12283 non-null  bool   \n",
            "dtypes: bool(2), float64(10), object(2)\n",
            "memory usage: 1.1+ MB\n"
          ]
        }
      ]
    },
    {
      "cell_type": "markdown",
      "metadata": {
        "id": "nCJX2WsmQZGA"
      },
      "source": [
        "### Description of columns:\n",
        "\n",
        "**PageVisitsCatX:** Number of pages visited by a visitor. Cat1 is administrative, Cat2 is informational, and Cat3 is product related.\n",
        "\n",
        "**PageVisitDurationCatX:** How long a visitor stayed on the category of pages.\n",
        "\n",
        "**BounceRates:** Percentage of visitors who landed and exited a page.\n",
        "\n",
        "**ExitRates:** Percentage of visitors who left the site from that page.\n",
        "\n",
        "**PageValues:** A measurement of a page's contribution to a sale.\n",
        "\n",
        "**HowCloseToSpecialDay:** How close is browsing date to a special day or a holiday, such as Valentine's day? Higher numbers are closer.\n",
        "\n",
        "**Month:** Month of visit.\n",
        "\n",
        "**VisitorType:** Is the visitor a new or returning visitor?\n",
        "\n",
        "**Weekend:** Did the visit occur on a weekend day?\n",
        "\n",
        "**Revenue:** Did the visit conclude in a sale?"
      ]
    },
    {
      "cell_type": "markdown",
      "metadata": {
        "id": "VfMKgJiPQZGB"
      },
      "source": [
        "## Perform Data Analysis"
      ]
    },
    {
      "cell_type": "code",
      "source": [
        "import os\n",
        "# Find the latest version of spark 3.0  from http://www.apache.org/dist/spark/ and enter as the spark version\n",
        "# For example: 'spark-3.2.2'\n",
        "spark_version = 'spark-3.2.2'\n",
        "# spark_version = 'spark-3.<enter version>'\n",
        "os.environ['SPARK_VERSION']=spark_version\n",
        "\n",
        "# Install Spark and Java\n",
        "!apt-get update\n",
        "!apt-get install openjdk-11-jdk-headless -qq > /dev/null\n",
        "!wget -q http://www.apache.org/dist/spark/$SPARK_VERSION/$SPARK_VERSION-bin-hadoop3.2.tgz\n",
        "!tar xf $SPARK_VERSION-bin-hadoop3.2.tgz\n",
        "!pip install -q findspark\n",
        "\n",
        "# Set Environment Variables\n",
        "os.environ[\"JAVA_HOME\"] = \"/usr/lib/jvm/java-11-openjdk-amd64\"\n",
        "os.environ[\"SPARK_HOME\"] = f\"/content/{spark_version}-bin-hadoop3.2\"\n",
        "\n",
        "# Start a SparkSession\n",
        "import findspark\n",
        "findspark.init()"
      ],
      "metadata": {
        "colab": {
          "base_uri": "https://localhost:8080/"
        },
        "id": "vCQgmwUua6F2",
        "outputId": "8d2350e0-2283-418c-b538-c60f3cf28836"
      },
      "execution_count": 7,
      "outputs": [
        {
          "output_type": "stream",
          "name": "stdout",
          "text": [
            "\r0% [Working]\r            \rGet:1 http://security.ubuntu.com/ubuntu bionic-security InRelease [88.7 kB]\n",
            "\r0% [Waiting for headers] [1 InRelease 14.2 kB/88.7 kB 16%] [Connected to cloud.\r                                                                               \rHit:2 http://archive.ubuntu.com/ubuntu bionic InRelease\n",
            "\r0% [Waiting for headers] [1 InRelease 28.7 kB/88.7 kB 32%] [Connected to cloud.\r0% [2 InRelease gpgv 242 kB] [Waiting for headers] [1 InRelease 31.5 kB/88.7 kB\r                                                                               \rGet:3 http://archive.ubuntu.com/ubuntu bionic-updates InRelease [88.7 kB]\n",
            "\r0% [2 InRelease gpgv 242 kB] [3 InRelease 14.2 kB/88.7 kB 16%] [1 InRelease 37.\r                                                                               \rGet:4 https://cloud.r-project.org/bin/linux/ubuntu bionic-cran40/ InRelease [3,626 B]\n",
            "\r0% [2 InRelease gpgv 242 kB] [3 InRelease 15.6 kB/88.7 kB 18%] [1 InRelease 54.\r0% [2 InRelease gpgv 242 kB] [3 InRelease 33.0 kB/88.7 kB 37%] [Waiting for hea\r                                                                               \rIgn:5 https://developer.download.nvidia.com/compute/machine-learning/repos/ubuntu1804/x86_64  InRelease\n",
            "\r0% [2 InRelease gpgv 242 kB] [3 InRelease 63.4 kB/88.7 kB 71%] [Waiting for hea\r0% [2 InRelease gpgv 242 kB] [Waiting for headers] [Waiting for headers] [Waiti\r                                                                               \rHit:6 https://developer.download.nvidia.com/compute/cuda/repos/ubuntu1804/x86_64  InRelease\n",
            "\r                                                                               \r0% [2 InRelease gpgv 242 kB] [Waiting for headers] [Waiting for headers]\r                                                                        \rHit:7 https://developer.download.nvidia.com/compute/machine-learning/repos/ubuntu1804/x86_64  Release\n",
            "\r0% [2 InRelease gpgv 242 kB] [Waiting for headers] [Waiting for headers]\r                                                                        \rGet:8 http://archive.ubuntu.com/ubuntu bionic-backports InRelease [83.3 kB]\n",
            "Hit:9 http://ppa.launchpad.net/c2d4u.team/c2d4u4.0+/ubuntu bionic InRelease\n",
            "Hit:10 http://ppa.launchpad.net/cran/libgit2/ubuntu bionic InRelease\n",
            "Hit:11 http://ppa.launchpad.net/deadsnakes/ppa/ubuntu bionic InRelease\n",
            "Hit:12 http://ppa.launchpad.net/graphics-drivers/ppa/ubuntu bionic InRelease\n",
            "Get:13 http://security.ubuntu.com/ubuntu bionic-security/universe amd64 Packages [1,554 kB]\n",
            "Get:14 http://security.ubuntu.com/ubuntu bionic-security/main amd64 Packages [3,040 kB]\n",
            "Get:15 http://archive.ubuntu.com/ubuntu bionic-updates/universe amd64 Packages [2,332 kB]\n",
            "Get:16 http://archive.ubuntu.com/ubuntu bionic-updates/main amd64 Packages [3,472 kB]\n",
            "Fetched 10.7 MB in 3s (3,133 kB/s)\n",
            "Reading package lists... Done\n"
          ]
        }
      ]
    },
    {
      "cell_type": "code",
      "source": [
        "from pyspark.sql import SparkSession\n",
        "from pyspark import SparkFiles\n",
        "import time\n",
        "\n",
        "# Create a SparkSession\n",
        "spark = SparkSession.builder.appName(\"SparkSQL\").getOrCreate()"
      ],
      "metadata": {
        "id": "YUDDe1kma6Bu"
      },
      "execution_count": 8,
      "outputs": []
    },
    {
      "cell_type": "code",
      "source": [
        "df = spark.read.csv(SparkFiles.get(\"/content/drive/My Drive/colab_files/sales.csv\"), header=True)\n",
        "df.show()"
      ],
      "metadata": {
        "colab": {
          "base_uri": "https://localhost:8080/"
        },
        "id": "57KrrhCWa5VJ",
        "outputId": "95f66aba-751c-4239-d448-85d7681c84aa"
      },
      "execution_count": 11,
      "outputs": [
        {
          "output_type": "stream",
          "name": "stdout",
          "text": [
            "+--------------+---------------------+--------------+---------------------+--------------+---------------------+--------------------+--------------------+----------+--------------------+-----+-----------------+-------+-------+\n",
            "|PageVisitsCat1|PageVisitDurationCat1|PageVisitsCat2|PageVisitDurationCat2|PageVisitsCat3|PageVisitDurationCat3|         BounceRates|           ExitRates|PageValues|HowCloseToSpecialDay|Month|      VisitorType|Weekend|Revenue|\n",
            "+--------------+---------------------+--------------+---------------------+--------------+---------------------+--------------------+--------------------+----------+--------------------+-----+-----------------+-------+-------+\n",
            "|           0.0|                  0.0|           0.0|                  0.0|           1.0|                  0.0|                 0.2|                 0.2|       0.0|                 0.0|  Feb|Returning_Visitor|  False|  False|\n",
            "|           0.0|                  0.0|           0.0|                  0.0|           2.0|                 64.0|                 0.0|                 0.1|       0.0|                 0.0|  Feb|Returning_Visitor|  False|  False|\n",
            "|           0.0|                  0.0|           0.0|                  0.0|           2.0|          2.666666667|                0.05|                0.14|       0.0|                 0.0|  Feb|Returning_Visitor|  False|  False|\n",
            "|           0.0|                  0.0|           0.0|                  0.0|          10.0|                627.5|                0.02|                0.05|       0.0|                 0.0|  Feb|Returning_Visitor|   True|  False|\n",
            "|           0.0|                  0.0|           0.0|                  0.0|          19.0|          154.2166667|0.015789473999999998|         0.024561404|       0.0|                 0.0|  Feb|Returning_Visitor|  False|  False|\n",
            "|           0.0|                  0.0|           0.0|                  0.0|           2.0|                 37.0|                 0.0|                 0.1|       0.0|                 0.8|  Feb|Returning_Visitor|  False|  False|\n",
            "|           0.0|                  0.0|           0.0|                  0.0|           3.0|                738.0|                 0.0|0.022222222000000003|       0.0|                 0.4|  Feb|Returning_Visitor|  False|  False|\n",
            "|           0.0|                  0.0|           0.0|                  0.0|           3.0|                395.0|                 0.0|         0.066666667|       0.0|                 0.0|  Feb|Returning_Visitor|  False|  False|\n",
            "|           0.0|                  0.0|           0.0|                  0.0|          16.0|               407.75|             0.01875|0.025833332999999997|       0.0|                 0.4|  Feb|Returning_Visitor|  False|  False|\n",
            "|           0.0|                  0.0|           0.0|                  0.0|           7.0|                280.5|                 0.0|         0.028571429|       0.0|                 0.0|  Feb|Returning_Visitor|  False|  False|\n",
            "|           0.0|                  0.0|           0.0|                  0.0|           6.0|                 98.0|                 0.0|         0.066666667|       0.0|                 0.0|  Feb|Returning_Visitor|  False|  False|\n",
            "|           0.0|                  0.0|           0.0|                  0.0|           2.0|                 68.0|                 0.0|                 0.1|       0.0|                 0.0|  Feb|Returning_Visitor|  False|  False|\n",
            "|           2.0|                 53.0|           0.0|                  0.0|          23.0|          1668.285119|         0.008333333|0.016312636000000002|       0.0|                 0.0|  Feb|Returning_Visitor|  False|  False|\n",
            "|           0.0|                  0.0|           0.0|                  0.0|          13.0|   334.96666669999996|                 0.0|         0.007692308|       0.0|                 0.0|  Feb|Returning_Visitor|   True|  False|\n",
            "|           0.0|                  0.0|           0.0|                  0.0|           2.0|                 32.0|                 0.0|                 0.1|       0.0|                 0.0|  Feb|Returning_Visitor|  False|  False|\n",
            "|           0.0|                  0.0|           0.0|                  0.0|          20.0|          2981.166667|                 0.0|                0.01|       0.0|                 0.0|  Feb|Returning_Visitor|  False|  False|\n",
            "|           0.0|                  0.0|           0.0|                  0.0|           8.0|   136.16666669999998|                 0.0|         0.008333333|       0.0|                 1.0|  Feb|Returning_Visitor|   True|  False|\n",
            "|           0.0|                  0.0|           0.0|                  0.0|           3.0|                105.0|                 0.0|         0.033333333|       0.0|                 0.0|  Feb|Returning_Visitor|  False|  False|\n",
            "|           0.0|                  0.0|           0.0|                  0.0|           2.0|                 15.0|                 0.0|                 0.1|       0.0|                 0.8|  Feb|Returning_Visitor|  False|  False|\n",
            "|           0.0|                  0.0|           0.0|                  0.0|           5.0|                156.0|                 0.0|                0.04|       0.0|                 0.0|  Feb|Returning_Visitor|  False|  False|\n",
            "+--------------+---------------------+--------------+---------------------+--------------+---------------------+--------------------+--------------------+----------+--------------------+-----+-----------------+-------+-------+\n",
            "only showing top 20 rows\n",
            "\n"
          ]
        }
      ]
    },
    {
      "cell_type": "code",
      "source": [
        "# Create a temporary view of the DataFrame.\n",
        "df.createOrReplaceTempView('customer')"
      ],
      "metadata": {
        "id": "OZuonvVCc0po"
      },
      "execution_count": 12,
      "outputs": []
    },
    {
      "cell_type": "code",
      "execution_count": 16,
      "metadata": {
        "id": "rmvwrrPbQZGB",
        "colab": {
          "base_uri": "https://localhost:8080/"
        },
        "outputId": "412f03d0-1f30-4722-ef8d-66cc31f3c50f"
      },
      "outputs": [
        {
          "output_type": "stream",
          "name": "stdout",
          "text": [
            "+-----+------------------+\n",
            "|month|count(visitortype)|\n",
            "+-----+------------------+\n",
            "|  May|              3357|\n",
            "|  Nov|              2995|\n",
            "|  Mar|              1884|\n",
            "|  Dec|              1727|\n",
            "|  Oct|               549|\n",
            "|  Sep|               448|\n",
            "|  Aug|               433|\n",
            "|  Jul|               431|\n",
            "| June|               288|\n",
            "|  Feb|               171|\n",
            "+-----+------------------+\n",
            "\n"
          ]
        }
      ],
      "source": [
        "# Retrieve the number visits for each month.\n",
        "sql = \"\"\"\n",
        "select month, count(visitortype) from customer\n",
        "group by 1\n",
        "order by 2 desc\n",
        "\"\"\"\n",
        "spark.sql(sql).show()"
      ]
    },
    {
      "cell_type": "code",
      "execution_count": 21,
      "metadata": {
        "id": "0_5Dg3UWQZGB",
        "colab": {
          "base_uri": "https://localhost:8080/"
        },
        "outputId": "5ea6be18-b965-4bea-f047-7a7d7f7930dd"
      },
      "outputs": [
        {
          "output_type": "stream",
          "name": "stdout",
          "text": [
            "+--------------+\n",
            "|count(revenue)|\n",
            "+--------------+\n",
            "|         12283|\n",
            "+--------------+\n",
            "\n"
          ]
        }
      ],
      "source": [
        "# Retrieve the number of visits that resulted in a purchase or not.\n",
        "sql = \"\"\"\n",
        "select count(revenue) from customer\n",
        "\n",
        "\"\"\"\n",
        "spark.sql(sql).show()"
      ]
    },
    {
      "cell_type": "code",
      "execution_count": 36,
      "metadata": {
        "id": "XPauAuTGQZGC",
        "colab": {
          "base_uri": "https://localhost:8080/"
        },
        "outputId": "791ec7bb-b99d-4eb5-b4dc-3aedd94e1147"
      },
      "outputs": [
        {
          "output_type": "stream",
          "name": "stdout",
          "text": [
            "+-----------------------+\n",
            "|percnt_purchased_visits|\n",
            "+-----------------------+\n",
            "|                 15.53%|\n",
            "+-----------------------+\n",
            "\n"
          ]
        }
      ],
      "source": [
        "# What percentage of visits resulted in a purchase?\n",
        "sql = \"\"\"\n",
        "with zag as(\n",
        "select count(revenue) purchased, (select count(revenue) from customer)as total from customer\n",
        "where revenue = 'True')\n",
        "select CONCAT(round((purchased/total)*100,2), '%') AS percnt_purchased_visits from zag\n",
        "\n",
        "\"\"\"\n",
        "spark.sql(sql).show()"
      ]
    },
    {
      "cell_type": "code",
      "execution_count": 37,
      "metadata": {
        "id": "Q1fw9SM8QZGD",
        "colab": {
          "base_uri": "https://localhost:8080/"
        },
        "outputId": "ae1833a0-c25d-43cf-9086-85df4601c2a4"
      },
      "outputs": [
        {
          "output_type": "stream",
          "name": "stdout",
          "text": [
            "+--------------+---------------------+--------------+---------------------+--------------+---------------------+-----------+--------------------+------------------+--------------------+-----+-----------------+-------+-------+\n",
            "|PageVisitsCat1|PageVisitDurationCat1|PageVisitsCat2|PageVisitDurationCat2|PageVisitsCat3|PageVisitDurationCat3|BounceRates|           ExitRates|        PageValues|HowCloseToSpecialDay|Month|      VisitorType|Weekend|Revenue|\n",
            "+--------------+---------------------+--------------+---------------------+--------------+---------------------+-----------+--------------------+------------------+--------------------+-----+-----------------+-------+-------+\n",
            "|           3.0|          87.83333333|           0.0|                  0.0|          27.0|    798.3333332999999|        0.0|         0.012643678|        22.9160357|                 0.8|  Feb|Returning_Visitor|  False|   True|\n",
            "|          10.0|          1005.666667|           0.0|                  0.0|          36.0|          2111.341667|0.004347826|0.014492753999999998|       11.43941195|                 0.0|  Feb|Returning_Visitor|  False|   True|\n",
            "|           4.0|                 61.0|           0.0|                  0.0|          19.0|                607.0|        0.0|0.026984127000000004|       17.53595893|                 1.0|  Feb|Returning_Visitor|   True|   True|\n",
            "|           9.0|                111.5|           1.0|                 48.5|          49.0|          1868.819697|        0.0|         0.020708874|       1.706014966|                 0.0|  Mar|Returning_Visitor|  False|   True|\n",
            "|           2.0|                 56.0|           1.0|                144.0|          67.0|          2563.783333|        0.0|         0.005797101|       19.34265017|                 0.0|  Mar|      New_Visitor|  False|   True|\n",
            "|           0.0|                  0.0|           0.0|                  0.0|          17.0|    840.2333332999999|        0.0|0.001666667000000...|           109.176|                 0.0|  Mar|      New_Visitor|  False|   True|\n",
            "|           3.0|                 94.0|           2.0|                125.0|          55.0|   1970.8448050000002|        0.0|0.001724137999999...|       96.25511582|                 0.0|  Mar|      New_Visitor|   True|   True|\n",
            "|           1.0|                 32.0|           0.0|                  0.0|          50.0|               2867.0|        0.0|               0.004|153.44324780000002|                 0.0|  Mar|Returning_Visitor|   True|   True|\n",
            "|           1.0|                 18.0|           0.0|                  0.0|          16.0|              1331.75|        0.0|              0.0125|       33.79956701|                 0.0|  Mar|      New_Visitor|  False|   True|\n",
            "|           2.0|                 38.0|           0.0|                  0.0|          14.0|                643.0|        0.0|0.013333333000000001|           35.0928|                 0.0|  Mar|Returning_Visitor|  False|   True|\n",
            "|           0.0|                  0.0|           0.0|                  0.0|          16.0|               2337.0|        0.0|0.013333333000000001|       17.76266667|                 0.0|  Mar|Returning_Visitor|  False|   True|\n",
            "|          16.0|          155.6313131|           0.0|                  0.0|          32.0|           908.013456|      0.005|          0.01805276|       4.368515556|                 0.0|  Mar|Returning_Visitor|  False|   True|\n",
            "|           1.0|                158.0|           1.0|                 64.0|          29.0|          1916.761905|0.006451613|         0.018709677| 8.772473117999999|                 0.0|  Mar|Returning_Visitor|   True|   True|\n",
            "|           0.0|                  0.0|           0.0|                  0.0|          63.0|          5220.083333|        0.0|         0.003329865|       51.46331148|                 0.0|  Mar|Returning_Visitor|   True|   True|\n",
            "|           4.0|                 15.0|           0.0|                  0.0|          10.0|                197.2|        0.0|         0.016666667|             38.99|                 0.0|  Mar|Returning_Visitor|   True|   True|\n",
            "|           0.0|                  0.0|           0.0|                  0.0|          11.0|   300.07142860000005|        0.0|                0.02|           53.9892|                 0.0|  Mar|Returning_Visitor|   True|   True|\n",
            "|           2.0|                  8.0|           1.0|          14.33333333|          14.0|    603.6666667000001|        0.0|              0.0125|          44.67925|                 0.0|  Mar|Returning_Visitor|  False|   True|\n",
            "|           0.0|                  0.0|           0.0|                  0.0|          13.0|          328.9166667|        0.0|         0.014285714|       59.79014286|                 0.0|  Mar|Returning_Visitor|  False|   True|\n",
            "|           1.0|                 38.0|           0.0|                  0.0|          23.0|               1483.6|0.022916667|         0.038373016|7.1030208329999995|                 0.0|  Mar|Returning_Visitor|  False|   True|\n",
            "|           0.0|                  0.0|           1.0|                  9.0|          30.0|   1992.8333329999998|        0.0|         0.003333333|       9.227000967|                 0.0|  Mar|Returning_Visitor|  False|   True|\n",
            "+--------------+---------------------+--------------+---------------------+--------------+---------------------+-----------+--------------------+------------------+--------------------+-----+-----------------+-------+-------+\n",
            "only showing top 20 rows\n",
            "\n"
          ]
        }
      ],
      "source": [
        "# Filter the DataFrame for all purchases.\n",
        "sql= \"\"\"\n",
        "select * from customer\n",
        "where revenue = True\n",
        "\n",
        "\"\"\"\n",
        "spark.sql(sql).show()\n"
      ]
    },
    {
      "cell_type": "code",
      "execution_count": 44,
      "metadata": {
        "id": "a_Xjt-GtQZGD",
        "colab": {
          "base_uri": "https://localhost:8080/"
        },
        "outputId": "9d71156a-b537-49ac-85f4-57e1318f7394"
      },
      "outputs": [
        {
          "output_type": "stream",
          "name": "stdout",
          "text": [
            "+-----+------------------+---+\n",
            "|month|count(visitortype)|rnk|\n",
            "+-----+------------------+---+\n",
            "|  Nov|               760|  1|\n",
            "|  May|               365|  2|\n",
            "|  Dec|               216|  3|\n",
            "|  Mar|               192|  4|\n",
            "|  Oct|               115|  5|\n",
            "|  Sep|                86|  6|\n",
            "|  Aug|                76|  7|\n",
            "|  Jul|                66|  8|\n",
            "| June|                29|  9|\n",
            "|  Feb|                 3| 10|\n",
            "+-----+------------------+---+\n",
            "\n",
            "Month with greatest number of visits where a purchase was made is NOVEMBER with 760 visits\n"
          ]
        }
      ],
      "source": [
        "# What is the number of visits for each month that resulted in a purchase?\n",
        "\n",
        "# Which month had the greatest number of visits where a purchase was made?\n",
        "\n",
        "sql = \"\"\"\n",
        "select month, count(visitortype), dense_rank() over(order by count(visitortype) desc) as rnk from customer\n",
        "where revenue = 'True'\n",
        "group by 1\n",
        "order by 2 desc\n",
        "\"\"\"\n",
        "spark.sql(sql).show()\n",
        "\n",
        "print(f\"Month with greatest number of visits where a purchase was made is NOVEMBER with 760 visits\")\n"
      ]
    },
    {
      "cell_type": "code",
      "execution_count": 47,
      "metadata": {
        "id": "_OxjExBNQZGE",
        "colab": {
          "base_uri": "https://localhost:8080/"
        },
        "outputId": "f6288247-42df-4bcd-a71e-6b1c8d35983f"
      },
      "outputs": [
        {
          "output_type": "stream",
          "name": "stdout",
          "text": [
            "+-----------+-----------------+\n",
            "|New_Visitor|Returning_Visitor|\n",
            "+-----------+-----------------+\n",
            "|       1694|            10504|\n",
            "+-----------+-----------------+\n",
            "\n"
          ]
        }
      ],
      "source": [
        "# How many visits were from returning visitors?\n",
        "# How many visits were from new visitors?\n",
        "sql =\"\"\"\n",
        "select count(*) New_Visitor, (select count(*) from customer\n",
        "where visitortype = 'Returning_Visitor') AS Returning_Visitor  from customer\n",
        "where visitortype = 'New_Visitor'\n",
        "\n",
        "\"\"\"\n",
        "spark.sql(sql).show()"
      ]
    },
    {
      "cell_type": "code",
      "execution_count": 51,
      "metadata": {
        "id": "eraQYedTQZGE",
        "colab": {
          "base_uri": "https://localhost:8080/"
        },
        "outputId": "9235be7b-0b73-4f6e-bc2b-c31ce9c8d61c"
      },
      "outputs": [
        {
          "output_type": "stream",
          "name": "stdout",
          "text": [
            "+--------------+--------------+\n",
            "|weekday_visits|weekend_visits|\n",
            "+--------------+--------------+\n",
            "|          9421|          2862|\n",
            "+--------------+--------------+\n",
            "\n",
            "+-----+-------+\n",
            "|total|Weekend|\n",
            "+-----+-------+\n",
            "| 9421|  False|\n",
            "| 2862|   True|\n",
            "+-----+-------+\n",
            "\n"
          ]
        }
      ],
      "source": [
        "# How many visits took place on a weekday? And, on the weekend?\n",
        "sql = \"\"\"\n",
        "select count(*) weekday_visits, (select count(*) from customer where Weekend = \"True\") AS weekend_visits\n",
        "From customer\n",
        "where weekend = 'False'\n",
        "\n",
        "\"\"\"\n",
        "spark.sql(sql).show()\n",
        "\n",
        "sql = \"\"\"\n",
        "\n",
        "select count(*) total, Weekend from customer\n",
        "group by 2\n",
        "\n",
        "\"\"\"\n",
        "spark.sql(sql).show()"
      ]
    },
    {
      "cell_type": "markdown",
      "metadata": {
        "id": "jlmU7mPSQZGE"
      },
      "source": [
        "## Perform Logistic Regression "
      ]
    },
    {
      "cell_type": "code",
      "source": [
        "df.show()"
      ],
      "metadata": {
        "colab": {
          "base_uri": "https://localhost:8080/"
        },
        "id": "gCYqYiVooj8z",
        "outputId": "d22ef20e-fbef-434c-fe71-c9373b261fa7"
      },
      "execution_count": 58,
      "outputs": [
        {
          "output_type": "stream",
          "name": "stdout",
          "text": [
            "+--------------+---------------------+--------------+---------------------+--------------+---------------------+--------------------+--------------------+----------+--------------------+-----+-----------------+-------+-------+\n",
            "|PageVisitsCat1|PageVisitDurationCat1|PageVisitsCat2|PageVisitDurationCat2|PageVisitsCat3|PageVisitDurationCat3|         BounceRates|           ExitRates|PageValues|HowCloseToSpecialDay|Month|      VisitorType|Weekend|Revenue|\n",
            "+--------------+---------------------+--------------+---------------------+--------------+---------------------+--------------------+--------------------+----------+--------------------+-----+-----------------+-------+-------+\n",
            "|           0.0|                  0.0|           0.0|                  0.0|           1.0|                  0.0|                 0.2|                 0.2|       0.0|                 0.0|  Feb|Returning_Visitor|  False|  False|\n",
            "|           0.0|                  0.0|           0.0|                  0.0|           2.0|                 64.0|                 0.0|                 0.1|       0.0|                 0.0|  Feb|Returning_Visitor|  False|  False|\n",
            "|           0.0|                  0.0|           0.0|                  0.0|           2.0|          2.666666667|                0.05|                0.14|       0.0|                 0.0|  Feb|Returning_Visitor|  False|  False|\n",
            "|           0.0|                  0.0|           0.0|                  0.0|          10.0|                627.5|                0.02|                0.05|       0.0|                 0.0|  Feb|Returning_Visitor|   True|  False|\n",
            "|           0.0|                  0.0|           0.0|                  0.0|          19.0|          154.2166667|0.015789473999999998|         0.024561404|       0.0|                 0.0|  Feb|Returning_Visitor|  False|  False|\n",
            "|           0.0|                  0.0|           0.0|                  0.0|           2.0|                 37.0|                 0.0|                 0.1|       0.0|                 0.8|  Feb|Returning_Visitor|  False|  False|\n",
            "|           0.0|                  0.0|           0.0|                  0.0|           3.0|                738.0|                 0.0|0.022222222000000003|       0.0|                 0.4|  Feb|Returning_Visitor|  False|  False|\n",
            "|           0.0|                  0.0|           0.0|                  0.0|           3.0|                395.0|                 0.0|         0.066666667|       0.0|                 0.0|  Feb|Returning_Visitor|  False|  False|\n",
            "|           0.0|                  0.0|           0.0|                  0.0|          16.0|               407.75|             0.01875|0.025833332999999997|       0.0|                 0.4|  Feb|Returning_Visitor|  False|  False|\n",
            "|           0.0|                  0.0|           0.0|                  0.0|           7.0|                280.5|                 0.0|         0.028571429|       0.0|                 0.0|  Feb|Returning_Visitor|  False|  False|\n",
            "|           0.0|                  0.0|           0.0|                  0.0|           6.0|                 98.0|                 0.0|         0.066666667|       0.0|                 0.0|  Feb|Returning_Visitor|  False|  False|\n",
            "|           0.0|                  0.0|           0.0|                  0.0|           2.0|                 68.0|                 0.0|                 0.1|       0.0|                 0.0|  Feb|Returning_Visitor|  False|  False|\n",
            "|           2.0|                 53.0|           0.0|                  0.0|          23.0|          1668.285119|         0.008333333|0.016312636000000002|       0.0|                 0.0|  Feb|Returning_Visitor|  False|  False|\n",
            "|           0.0|                  0.0|           0.0|                  0.0|          13.0|   334.96666669999996|                 0.0|         0.007692308|       0.0|                 0.0|  Feb|Returning_Visitor|   True|  False|\n",
            "|           0.0|                  0.0|           0.0|                  0.0|           2.0|                 32.0|                 0.0|                 0.1|       0.0|                 0.0|  Feb|Returning_Visitor|  False|  False|\n",
            "|           0.0|                  0.0|           0.0|                  0.0|          20.0|          2981.166667|                 0.0|                0.01|       0.0|                 0.0|  Feb|Returning_Visitor|  False|  False|\n",
            "|           0.0|                  0.0|           0.0|                  0.0|           8.0|   136.16666669999998|                 0.0|         0.008333333|       0.0|                 1.0|  Feb|Returning_Visitor|   True|  False|\n",
            "|           0.0|                  0.0|           0.0|                  0.0|           3.0|                105.0|                 0.0|         0.033333333|       0.0|                 0.0|  Feb|Returning_Visitor|  False|  False|\n",
            "|           0.0|                  0.0|           0.0|                  0.0|           2.0|                 15.0|                 0.0|                 0.1|       0.0|                 0.8|  Feb|Returning_Visitor|  False|  False|\n",
            "|           0.0|                  0.0|           0.0|                  0.0|           5.0|                156.0|                 0.0|                0.04|       0.0|                 0.0|  Feb|Returning_Visitor|  False|  False|\n",
            "+--------------+---------------------+--------------+---------------------+--------------+---------------------+--------------------+--------------------+----------+--------------------+-----+-----------------+-------+-------+\n",
            "only showing top 20 rows\n",
            "\n"
          ]
        }
      ]
    },
    {
      "cell_type": "code",
      "source": [
        "df2 = df.show()"
      ],
      "metadata": {
        "colab": {
          "base_uri": "https://localhost:8080/"
        },
        "id": "U2tQ5rErpAeL",
        "outputId": "31a0b0dd-660c-4c3b-8762-54debd2d2359"
      },
      "execution_count": 63,
      "outputs": [
        {
          "output_type": "stream",
          "name": "stdout",
          "text": [
            "+--------------+---------------------+--------------+---------------------+--------------+---------------------+--------------------+--------------------+----------+--------------------+-----+-----------------+-------+-------+\n",
            "|PageVisitsCat1|PageVisitDurationCat1|PageVisitsCat2|PageVisitDurationCat2|PageVisitsCat3|PageVisitDurationCat3|         BounceRates|           ExitRates|PageValues|HowCloseToSpecialDay|Month|      VisitorType|Weekend|Revenue|\n",
            "+--------------+---------------------+--------------+---------------------+--------------+---------------------+--------------------+--------------------+----------+--------------------+-----+-----------------+-------+-------+\n",
            "|           0.0|                  0.0|           0.0|                  0.0|           1.0|                  0.0|                 0.2|                 0.2|       0.0|                 0.0|  Feb|Returning_Visitor|  False|  False|\n",
            "|           0.0|                  0.0|           0.0|                  0.0|           2.0|                 64.0|                 0.0|                 0.1|       0.0|                 0.0|  Feb|Returning_Visitor|  False|  False|\n",
            "|           0.0|                  0.0|           0.0|                  0.0|           2.0|          2.666666667|                0.05|                0.14|       0.0|                 0.0|  Feb|Returning_Visitor|  False|  False|\n",
            "|           0.0|                  0.0|           0.0|                  0.0|          10.0|                627.5|                0.02|                0.05|       0.0|                 0.0|  Feb|Returning_Visitor|   True|  False|\n",
            "|           0.0|                  0.0|           0.0|                  0.0|          19.0|          154.2166667|0.015789473999999998|         0.024561404|       0.0|                 0.0|  Feb|Returning_Visitor|  False|  False|\n",
            "|           0.0|                  0.0|           0.0|                  0.0|           2.0|                 37.0|                 0.0|                 0.1|       0.0|                 0.8|  Feb|Returning_Visitor|  False|  False|\n",
            "|           0.0|                  0.0|           0.0|                  0.0|           3.0|                738.0|                 0.0|0.022222222000000003|       0.0|                 0.4|  Feb|Returning_Visitor|  False|  False|\n",
            "|           0.0|                  0.0|           0.0|                  0.0|           3.0|                395.0|                 0.0|         0.066666667|       0.0|                 0.0|  Feb|Returning_Visitor|  False|  False|\n",
            "|           0.0|                  0.0|           0.0|                  0.0|          16.0|               407.75|             0.01875|0.025833332999999997|       0.0|                 0.4|  Feb|Returning_Visitor|  False|  False|\n",
            "|           0.0|                  0.0|           0.0|                  0.0|           7.0|                280.5|                 0.0|         0.028571429|       0.0|                 0.0|  Feb|Returning_Visitor|  False|  False|\n",
            "|           0.0|                  0.0|           0.0|                  0.0|           6.0|                 98.0|                 0.0|         0.066666667|       0.0|                 0.0|  Feb|Returning_Visitor|  False|  False|\n",
            "|           0.0|                  0.0|           0.0|                  0.0|           2.0|                 68.0|                 0.0|                 0.1|       0.0|                 0.0|  Feb|Returning_Visitor|  False|  False|\n",
            "|           2.0|                 53.0|           0.0|                  0.0|          23.0|          1668.285119|         0.008333333|0.016312636000000002|       0.0|                 0.0|  Feb|Returning_Visitor|  False|  False|\n",
            "|           0.0|                  0.0|           0.0|                  0.0|          13.0|   334.96666669999996|                 0.0|         0.007692308|       0.0|                 0.0|  Feb|Returning_Visitor|   True|  False|\n",
            "|           0.0|                  0.0|           0.0|                  0.0|           2.0|                 32.0|                 0.0|                 0.1|       0.0|                 0.0|  Feb|Returning_Visitor|  False|  False|\n",
            "|           0.0|                  0.0|           0.0|                  0.0|          20.0|          2981.166667|                 0.0|                0.01|       0.0|                 0.0|  Feb|Returning_Visitor|  False|  False|\n",
            "|           0.0|                  0.0|           0.0|                  0.0|           8.0|   136.16666669999998|                 0.0|         0.008333333|       0.0|                 1.0|  Feb|Returning_Visitor|   True|  False|\n",
            "|           0.0|                  0.0|           0.0|                  0.0|           3.0|                105.0|                 0.0|         0.033333333|       0.0|                 0.0|  Feb|Returning_Visitor|  False|  False|\n",
            "|           0.0|                  0.0|           0.0|                  0.0|           2.0|                 15.0|                 0.0|                 0.1|       0.0|                 0.8|  Feb|Returning_Visitor|  False|  False|\n",
            "|           0.0|                  0.0|           0.0|                  0.0|           5.0|                156.0|                 0.0|                0.04|       0.0|                 0.0|  Feb|Returning_Visitor|  False|  False|\n",
            "+--------------+---------------------+--------------+---------------------+--------------+---------------------+--------------------+--------------------+----------+--------------------+-----+-----------------+-------+-------+\n",
            "only showing top 20 rows\n",
            "\n"
          ]
        }
      ]
    },
    {
      "cell_type": "code",
      "execution_count": 67,
      "metadata": {
        "id": "Z18A4GRwQZGE",
        "colab": {
          "base_uri": "https://localhost:8080/",
          "height": 488
        },
        "outputId": "a14ec179-0f64-42c4-a4fb-64aa81286a23"
      },
      "outputs": [
        {
          "output_type": "execute_result",
          "data": {
            "text/plain": [
              "       PageVisitsCat1  PageVisitDurationCat1  PageVisitsCat2  \\\n",
              "0                 0.0                    0.0             0.0   \n",
              "1                 0.0                    0.0             0.0   \n",
              "2                 0.0                    0.0             0.0   \n",
              "3                 0.0                    0.0             0.0   \n",
              "4                 0.0                    0.0             0.0   \n",
              "...               ...                    ...             ...   \n",
              "12278             3.0                  145.0             0.0   \n",
              "12279             0.0                    0.0             0.0   \n",
              "12280             0.0                    0.0             0.0   \n",
              "12281             4.0                   75.0             0.0   \n",
              "12282             0.0                    0.0             0.0   \n",
              "\n",
              "       PageVisitDurationCat2  PageVisitsCat3  PageVisitDurationCat3  \\\n",
              "0                        0.0             1.0               0.000000   \n",
              "1                        0.0             2.0              64.000000   \n",
              "2                        0.0             2.0               2.666667   \n",
              "3                        0.0            10.0             627.500000   \n",
              "4                        0.0            19.0             154.216667   \n",
              "...                      ...             ...                    ...   \n",
              "12278                    0.0            53.0            1783.791667   \n",
              "12279                    0.0             5.0             465.750000   \n",
              "12280                    0.0             6.0             184.250000   \n",
              "12281                    0.0            15.0             346.000000   \n",
              "12282                    0.0             3.0              21.250000   \n",
              "\n",
              "       BounceRates  ExitRates  PageValues  HowCloseToSpecialDay  ...  \\\n",
              "0         0.200000   0.200000    0.000000                   0.0  ...   \n",
              "1         0.000000   0.100000    0.000000                   0.0  ...   \n",
              "2         0.050000   0.140000    0.000000                   0.0  ...   \n",
              "3         0.020000   0.050000    0.000000                   0.0  ...   \n",
              "4         0.015789   0.024561    0.000000                   0.0  ...   \n",
              "...            ...        ...         ...                   ...  ...   \n",
              "12278     0.007143   0.029031   12.241717                   0.0  ...   \n",
              "12279     0.000000   0.021333    0.000000                   0.0  ...   \n",
              "12280     0.083333   0.086667    0.000000                   0.0  ...   \n",
              "12281     0.000000   0.021053    0.000000                   0.0  ...   \n",
              "12282     0.000000   0.066667    0.000000                   0.0  ...   \n",
              "\n",
              "       Month_Jul  Month_June  Month_Mar  Month_May  Month_Nov  Month_Oct  \\\n",
              "0              0           0          0          0          0          0   \n",
              "1              0           0          0          0          0          0   \n",
              "2              0           0          0          0          0          0   \n",
              "3              0           0          0          0          0          0   \n",
              "4              0           0          0          0          0          0   \n",
              "...          ...         ...        ...        ...        ...        ...   \n",
              "12278          0           0          0          0          0          0   \n",
              "12279          0           0          0          0          1          0   \n",
              "12280          0           0          0          0          1          0   \n",
              "12281          0           0          0          0          1          0   \n",
              "12282          0           0          0          0          1          0   \n",
              "\n",
              "       Month_Sep  VisitorType_New_Visitor  VisitorType_Other  \\\n",
              "0              0                        0                  0   \n",
              "1              0                        0                  0   \n",
              "2              0                        0                  0   \n",
              "3              0                        0                  0   \n",
              "4              0                        0                  0   \n",
              "...          ...                      ...                ...   \n",
              "12278          0                        0                  0   \n",
              "12279          0                        0                  0   \n",
              "12280          0                        0                  0   \n",
              "12281          0                        0                  0   \n",
              "12282          0                        1                  0   \n",
              "\n",
              "       VisitorType_Returning_Visitor  \n",
              "0                                  1  \n",
              "1                                  1  \n",
              "2                                  1  \n",
              "3                                  1  \n",
              "4                                  1  \n",
              "...                              ...  \n",
              "12278                              1  \n",
              "12279                              1  \n",
              "12280                              1  \n",
              "12281                              1  \n",
              "12282                              0  \n",
              "\n",
              "[12283 rows x 25 columns]"
            ],
            "text/html": [
              "\n",
              "  <div id=\"df-2b61531a-ee27-43ae-adfa-082f5f73eb16\">\n",
              "    <div class=\"colab-df-container\">\n",
              "      <div>\n",
              "<style scoped>\n",
              "    .dataframe tbody tr th:only-of-type {\n",
              "        vertical-align: middle;\n",
              "    }\n",
              "\n",
              "    .dataframe tbody tr th {\n",
              "        vertical-align: top;\n",
              "    }\n",
              "\n",
              "    .dataframe thead th {\n",
              "        text-align: right;\n",
              "    }\n",
              "</style>\n",
              "<table border=\"1\" class=\"dataframe\">\n",
              "  <thead>\n",
              "    <tr style=\"text-align: right;\">\n",
              "      <th></th>\n",
              "      <th>PageVisitsCat1</th>\n",
              "      <th>PageVisitDurationCat1</th>\n",
              "      <th>PageVisitsCat2</th>\n",
              "      <th>PageVisitDurationCat2</th>\n",
              "      <th>PageVisitsCat3</th>\n",
              "      <th>PageVisitDurationCat3</th>\n",
              "      <th>BounceRates</th>\n",
              "      <th>ExitRates</th>\n",
              "      <th>PageValues</th>\n",
              "      <th>HowCloseToSpecialDay</th>\n",
              "      <th>...</th>\n",
              "      <th>Month_Jul</th>\n",
              "      <th>Month_June</th>\n",
              "      <th>Month_Mar</th>\n",
              "      <th>Month_May</th>\n",
              "      <th>Month_Nov</th>\n",
              "      <th>Month_Oct</th>\n",
              "      <th>Month_Sep</th>\n",
              "      <th>VisitorType_New_Visitor</th>\n",
              "      <th>VisitorType_Other</th>\n",
              "      <th>VisitorType_Returning_Visitor</th>\n",
              "    </tr>\n",
              "  </thead>\n",
              "  <tbody>\n",
              "    <tr>\n",
              "      <th>0</th>\n",
              "      <td>0.0</td>\n",
              "      <td>0.0</td>\n",
              "      <td>0.0</td>\n",
              "      <td>0.0</td>\n",
              "      <td>1.0</td>\n",
              "      <td>0.000000</td>\n",
              "      <td>0.200000</td>\n",
              "      <td>0.200000</td>\n",
              "      <td>0.000000</td>\n",
              "      <td>0.0</td>\n",
              "      <td>...</td>\n",
              "      <td>0</td>\n",
              "      <td>0</td>\n",
              "      <td>0</td>\n",
              "      <td>0</td>\n",
              "      <td>0</td>\n",
              "      <td>0</td>\n",
              "      <td>0</td>\n",
              "      <td>0</td>\n",
              "      <td>0</td>\n",
              "      <td>1</td>\n",
              "    </tr>\n",
              "    <tr>\n",
              "      <th>1</th>\n",
              "      <td>0.0</td>\n",
              "      <td>0.0</td>\n",
              "      <td>0.0</td>\n",
              "      <td>0.0</td>\n",
              "      <td>2.0</td>\n",
              "      <td>64.000000</td>\n",
              "      <td>0.000000</td>\n",
              "      <td>0.100000</td>\n",
              "      <td>0.000000</td>\n",
              "      <td>0.0</td>\n",
              "      <td>...</td>\n",
              "      <td>0</td>\n",
              "      <td>0</td>\n",
              "      <td>0</td>\n",
              "      <td>0</td>\n",
              "      <td>0</td>\n",
              "      <td>0</td>\n",
              "      <td>0</td>\n",
              "      <td>0</td>\n",
              "      <td>0</td>\n",
              "      <td>1</td>\n",
              "    </tr>\n",
              "    <tr>\n",
              "      <th>2</th>\n",
              "      <td>0.0</td>\n",
              "      <td>0.0</td>\n",
              "      <td>0.0</td>\n",
              "      <td>0.0</td>\n",
              "      <td>2.0</td>\n",
              "      <td>2.666667</td>\n",
              "      <td>0.050000</td>\n",
              "      <td>0.140000</td>\n",
              "      <td>0.000000</td>\n",
              "      <td>0.0</td>\n",
              "      <td>...</td>\n",
              "      <td>0</td>\n",
              "      <td>0</td>\n",
              "      <td>0</td>\n",
              "      <td>0</td>\n",
              "      <td>0</td>\n",
              "      <td>0</td>\n",
              "      <td>0</td>\n",
              "      <td>0</td>\n",
              "      <td>0</td>\n",
              "      <td>1</td>\n",
              "    </tr>\n",
              "    <tr>\n",
              "      <th>3</th>\n",
              "      <td>0.0</td>\n",
              "      <td>0.0</td>\n",
              "      <td>0.0</td>\n",
              "      <td>0.0</td>\n",
              "      <td>10.0</td>\n",
              "      <td>627.500000</td>\n",
              "      <td>0.020000</td>\n",
              "      <td>0.050000</td>\n",
              "      <td>0.000000</td>\n",
              "      <td>0.0</td>\n",
              "      <td>...</td>\n",
              "      <td>0</td>\n",
              "      <td>0</td>\n",
              "      <td>0</td>\n",
              "      <td>0</td>\n",
              "      <td>0</td>\n",
              "      <td>0</td>\n",
              "      <td>0</td>\n",
              "      <td>0</td>\n",
              "      <td>0</td>\n",
              "      <td>1</td>\n",
              "    </tr>\n",
              "    <tr>\n",
              "      <th>4</th>\n",
              "      <td>0.0</td>\n",
              "      <td>0.0</td>\n",
              "      <td>0.0</td>\n",
              "      <td>0.0</td>\n",
              "      <td>19.0</td>\n",
              "      <td>154.216667</td>\n",
              "      <td>0.015789</td>\n",
              "      <td>0.024561</td>\n",
              "      <td>0.000000</td>\n",
              "      <td>0.0</td>\n",
              "      <td>...</td>\n",
              "      <td>0</td>\n",
              "      <td>0</td>\n",
              "      <td>0</td>\n",
              "      <td>0</td>\n",
              "      <td>0</td>\n",
              "      <td>0</td>\n",
              "      <td>0</td>\n",
              "      <td>0</td>\n",
              "      <td>0</td>\n",
              "      <td>1</td>\n",
              "    </tr>\n",
              "    <tr>\n",
              "      <th>...</th>\n",
              "      <td>...</td>\n",
              "      <td>...</td>\n",
              "      <td>...</td>\n",
              "      <td>...</td>\n",
              "      <td>...</td>\n",
              "      <td>...</td>\n",
              "      <td>...</td>\n",
              "      <td>...</td>\n",
              "      <td>...</td>\n",
              "      <td>...</td>\n",
              "      <td>...</td>\n",
              "      <td>...</td>\n",
              "      <td>...</td>\n",
              "      <td>...</td>\n",
              "      <td>...</td>\n",
              "      <td>...</td>\n",
              "      <td>...</td>\n",
              "      <td>...</td>\n",
              "      <td>...</td>\n",
              "      <td>...</td>\n",
              "      <td>...</td>\n",
              "    </tr>\n",
              "    <tr>\n",
              "      <th>12278</th>\n",
              "      <td>3.0</td>\n",
              "      <td>145.0</td>\n",
              "      <td>0.0</td>\n",
              "      <td>0.0</td>\n",
              "      <td>53.0</td>\n",
              "      <td>1783.791667</td>\n",
              "      <td>0.007143</td>\n",
              "      <td>0.029031</td>\n",
              "      <td>12.241717</td>\n",
              "      <td>0.0</td>\n",
              "      <td>...</td>\n",
              "      <td>0</td>\n",
              "      <td>0</td>\n",
              "      <td>0</td>\n",
              "      <td>0</td>\n",
              "      <td>0</td>\n",
              "      <td>0</td>\n",
              "      <td>0</td>\n",
              "      <td>0</td>\n",
              "      <td>0</td>\n",
              "      <td>1</td>\n",
              "    </tr>\n",
              "    <tr>\n",
              "      <th>12279</th>\n",
              "      <td>0.0</td>\n",
              "      <td>0.0</td>\n",
              "      <td>0.0</td>\n",
              "      <td>0.0</td>\n",
              "      <td>5.0</td>\n",
              "      <td>465.750000</td>\n",
              "      <td>0.000000</td>\n",
              "      <td>0.021333</td>\n",
              "      <td>0.000000</td>\n",
              "      <td>0.0</td>\n",
              "      <td>...</td>\n",
              "      <td>0</td>\n",
              "      <td>0</td>\n",
              "      <td>0</td>\n",
              "      <td>0</td>\n",
              "      <td>1</td>\n",
              "      <td>0</td>\n",
              "      <td>0</td>\n",
              "      <td>0</td>\n",
              "      <td>0</td>\n",
              "      <td>1</td>\n",
              "    </tr>\n",
              "    <tr>\n",
              "      <th>12280</th>\n",
              "      <td>0.0</td>\n",
              "      <td>0.0</td>\n",
              "      <td>0.0</td>\n",
              "      <td>0.0</td>\n",
              "      <td>6.0</td>\n",
              "      <td>184.250000</td>\n",
              "      <td>0.083333</td>\n",
              "      <td>0.086667</td>\n",
              "      <td>0.000000</td>\n",
              "      <td>0.0</td>\n",
              "      <td>...</td>\n",
              "      <td>0</td>\n",
              "      <td>0</td>\n",
              "      <td>0</td>\n",
              "      <td>0</td>\n",
              "      <td>1</td>\n",
              "      <td>0</td>\n",
              "      <td>0</td>\n",
              "      <td>0</td>\n",
              "      <td>0</td>\n",
              "      <td>1</td>\n",
              "    </tr>\n",
              "    <tr>\n",
              "      <th>12281</th>\n",
              "      <td>4.0</td>\n",
              "      <td>75.0</td>\n",
              "      <td>0.0</td>\n",
              "      <td>0.0</td>\n",
              "      <td>15.0</td>\n",
              "      <td>346.000000</td>\n",
              "      <td>0.000000</td>\n",
              "      <td>0.021053</td>\n",
              "      <td>0.000000</td>\n",
              "      <td>0.0</td>\n",
              "      <td>...</td>\n",
              "      <td>0</td>\n",
              "      <td>0</td>\n",
              "      <td>0</td>\n",
              "      <td>0</td>\n",
              "      <td>1</td>\n",
              "      <td>0</td>\n",
              "      <td>0</td>\n",
              "      <td>0</td>\n",
              "      <td>0</td>\n",
              "      <td>1</td>\n",
              "    </tr>\n",
              "    <tr>\n",
              "      <th>12282</th>\n",
              "      <td>0.0</td>\n",
              "      <td>0.0</td>\n",
              "      <td>0.0</td>\n",
              "      <td>0.0</td>\n",
              "      <td>3.0</td>\n",
              "      <td>21.250000</td>\n",
              "      <td>0.000000</td>\n",
              "      <td>0.066667</td>\n",
              "      <td>0.000000</td>\n",
              "      <td>0.0</td>\n",
              "      <td>...</td>\n",
              "      <td>0</td>\n",
              "      <td>0</td>\n",
              "      <td>0</td>\n",
              "      <td>0</td>\n",
              "      <td>1</td>\n",
              "      <td>0</td>\n",
              "      <td>0</td>\n",
              "      <td>1</td>\n",
              "      <td>0</td>\n",
              "      <td>0</td>\n",
              "    </tr>\n",
              "  </tbody>\n",
              "</table>\n",
              "<p>12283 rows × 25 columns</p>\n",
              "</div>\n",
              "      <button class=\"colab-df-convert\" onclick=\"convertToInteractive('df-2b61531a-ee27-43ae-adfa-082f5f73eb16')\"\n",
              "              title=\"Convert this dataframe to an interactive table.\"\n",
              "              style=\"display:none;\">\n",
              "        \n",
              "  <svg xmlns=\"http://www.w3.org/2000/svg\" height=\"24px\"viewBox=\"0 0 24 24\"\n",
              "       width=\"24px\">\n",
              "    <path d=\"M0 0h24v24H0V0z\" fill=\"none\"/>\n",
              "    <path d=\"M18.56 5.44l.94 2.06.94-2.06 2.06-.94-2.06-.94-.94-2.06-.94 2.06-2.06.94zm-11 1L8.5 8.5l.94-2.06 2.06-.94-2.06-.94L8.5 2.5l-.94 2.06-2.06.94zm10 10l.94 2.06.94-2.06 2.06-.94-2.06-.94-.94-2.06-.94 2.06-2.06.94z\"/><path d=\"M17.41 7.96l-1.37-1.37c-.4-.4-.92-.59-1.43-.59-.52 0-1.04.2-1.43.59L10.3 9.45l-7.72 7.72c-.78.78-.78 2.05 0 2.83L4 21.41c.39.39.9.59 1.41.59.51 0 1.02-.2 1.41-.59l7.78-7.78 2.81-2.81c.8-.78.8-2.07 0-2.86zM5.41 20L4 18.59l7.72-7.72 1.47 1.35L5.41 20z\"/>\n",
              "  </svg>\n",
              "      </button>\n",
              "      \n",
              "  <style>\n",
              "    .colab-df-container {\n",
              "      display:flex;\n",
              "      flex-wrap:wrap;\n",
              "      gap: 12px;\n",
              "    }\n",
              "\n",
              "    .colab-df-convert {\n",
              "      background-color: #E8F0FE;\n",
              "      border: none;\n",
              "      border-radius: 50%;\n",
              "      cursor: pointer;\n",
              "      display: none;\n",
              "      fill: #1967D2;\n",
              "      height: 32px;\n",
              "      padding: 0 0 0 0;\n",
              "      width: 32px;\n",
              "    }\n",
              "\n",
              "    .colab-df-convert:hover {\n",
              "      background-color: #E2EBFA;\n",
              "      box-shadow: 0px 1px 2px rgba(60, 64, 67, 0.3), 0px 1px 3px 1px rgba(60, 64, 67, 0.15);\n",
              "      fill: #174EA6;\n",
              "    }\n",
              "\n",
              "    [theme=dark] .colab-df-convert {\n",
              "      background-color: #3B4455;\n",
              "      fill: #D2E3FC;\n",
              "    }\n",
              "\n",
              "    [theme=dark] .colab-df-convert:hover {\n",
              "      background-color: #434B5C;\n",
              "      box-shadow: 0px 1px 3px 1px rgba(0, 0, 0, 0.15);\n",
              "      filter: drop-shadow(0px 1px 2px rgba(0, 0, 0, 0.3));\n",
              "      fill: #FFFFFF;\n",
              "    }\n",
              "  </style>\n",
              "\n",
              "      <script>\n",
              "        const buttonEl =\n",
              "          document.querySelector('#df-2b61531a-ee27-43ae-adfa-082f5f73eb16 button.colab-df-convert');\n",
              "        buttonEl.style.display =\n",
              "          google.colab.kernel.accessAllowed ? 'block' : 'none';\n",
              "\n",
              "        async function convertToInteractive(key) {\n",
              "          const element = document.querySelector('#df-2b61531a-ee27-43ae-adfa-082f5f73eb16');\n",
              "          const dataTable =\n",
              "            await google.colab.kernel.invokeFunction('convertToInteractive',\n",
              "                                                     [key], {});\n",
              "          if (!dataTable) return;\n",
              "\n",
              "          const docLinkHtml = 'Like what you see? Visit the ' +\n",
              "            '<a target=\"_blank\" href=https://colab.research.google.com/notebooks/data_table.ipynb>data table notebook</a>'\n",
              "            + ' to learn more about interactive tables.';\n",
              "          element.innerHTML = '';\n",
              "          dataTable['output_type'] = 'display_data';\n",
              "          await google.colab.output.renderOutput(dataTable, element);\n",
              "          const docLink = document.createElement('div');\n",
              "          docLink.innerHTML = docLinkHtml;\n",
              "          element.appendChild(docLink);\n",
              "        }\n",
              "      </script>\n",
              "    </div>\n",
              "  </div>\n",
              "  "
            ]
          },
          "metadata": {},
          "execution_count": 67
        }
      ],
      "source": [
        "# Convert categorical variables to binary variables \n",
        "df_one =pd.get_dummies(df_sales)\n",
        "df_one"
      ]
    },
    {
      "cell_type": "code",
      "execution_count": 68,
      "metadata": {
        "id": "hwId_Uz-QZGF",
        "colab": {
          "base_uri": "https://localhost:8080/"
        },
        "outputId": "a31dcd2e-f61f-4f30-f488-48ec6f9adcbc"
      },
      "outputs": [
        {
          "output_type": "stream",
          "name": "stdout",
          "text": [
            "PageVisitsCat1\n",
            "PageVisitDurationCat1\n",
            "PageVisitsCat2\n",
            "PageVisitDurationCat2\n",
            "PageVisitsCat3\n",
            "PageVisitDurationCat3\n",
            "BounceRates\n",
            "ExitRates\n",
            "PageValues\n",
            "HowCloseToSpecialDay\n",
            "Weekend\n",
            "Revenue\n",
            "Month_Aug\n",
            "Month_Dec\n",
            "Month_Feb\n",
            "Month_Jul\n",
            "Month_June\n",
            "Month_Mar\n",
            "Month_May\n",
            "Month_Nov\n",
            "Month_Oct\n",
            "Month_Sep\n",
            "VisitorType_New_Visitor\n",
            "VisitorType_Other\n",
            "VisitorType_Returning_Visitor\n"
          ]
        }
      ],
      "source": [
        "# List the columns\n",
        "for col in df_one:\n",
        "  print(col)"
      ]
    },
    {
      "cell_type": "code",
      "execution_count": 69,
      "metadata": {
        "id": "Oc_ef7fgQZGF"
      },
      "outputs": [],
      "source": [
        "# Separate the features and target variables.\n",
        "y=df_one[\"Revenue\"]\n",
        "X=df_one.drop(columns=\"Revenue\")"
      ]
    },
    {
      "cell_type": "code",
      "execution_count": 70,
      "metadata": {
        "id": "SDIpb4EhQZGF"
      },
      "outputs": [],
      "source": [
        "# Split the dataset into training and testing sets\n",
        "from sklearn.model_selection import train_test_split\n",
        "\n",
        "X_train, X_test, y_train, y_test= train_test_split(X, \n",
        "                                                   y, \n",
        "                                                   random_state=1, \n",
        "                                                   stratify=y)"
      ]
    },
    {
      "cell_type": "code",
      "source": [
        "print(X_train.shape)\n",
        "print(X_test.shape)\n",
        "print(X.shape)"
      ],
      "metadata": {
        "colab": {
          "base_uri": "https://localhost:8080/"
        },
        "id": "jn-5Dwu9p45q",
        "outputId": "e79de4b2-e327-43f7-cae0-ad08d1675ad1"
      },
      "execution_count": 71,
      "outputs": [
        {
          "output_type": "stream",
          "name": "stdout",
          "text": [
            "(9212, 24)\n",
            "(3071, 24)\n",
            "(12283, 24)\n"
          ]
        }
      ]
    },
    {
      "cell_type": "code",
      "execution_count": 72,
      "metadata": {
        "id": "R2LC1DxlQZGF",
        "colab": {
          "base_uri": "https://localhost:8080/"
        },
        "outputId": "00d97da1-8da2-46b4-d634-9fba805b94b9"
      },
      "outputs": [
        {
          "output_type": "execute_result",
          "data": {
            "text/plain": [
              "LogisticRegression(random_state=1)"
            ]
          },
          "metadata": {},
          "execution_count": 72
        }
      ],
      "source": [
        "# Instantiate a logistic regression model\n",
        "from sklearn.linear_model import LogisticRegression\n",
        "classifier = LogisticRegression(solver='lbfgs', random_state=1)\n",
        "classifier"
      ]
    },
    {
      "cell_type": "code",
      "execution_count": 73,
      "metadata": {
        "id": "xrIDfSpjQZGG",
        "colab": {
          "base_uri": "https://localhost:8080/"
        },
        "outputId": "99b33c6d-1030-454b-901a-ef575e3418f7"
      },
      "outputs": [
        {
          "output_type": "stream",
          "name": "stderr",
          "text": [
            "/usr/local/lib/python3.7/dist-packages/sklearn/linear_model/_logistic.py:818: ConvergenceWarning: lbfgs failed to converge (status=1):\n",
            "STOP: TOTAL NO. of ITERATIONS REACHED LIMIT.\n",
            "\n",
            "Increase the number of iterations (max_iter) or scale the data as shown in:\n",
            "    https://scikit-learn.org/stable/modules/preprocessing.html\n",
            "Please also refer to the documentation for alternative solver options:\n",
            "    https://scikit-learn.org/stable/modules/linear_model.html#logistic-regression\n",
            "  extra_warning_msg=_LOGISTIC_SOLVER_CONVERGENCE_MSG,\n"
          ]
        },
        {
          "output_type": "execute_result",
          "data": {
            "text/plain": [
              "LogisticRegression(random_state=1)"
            ]
          },
          "metadata": {},
          "execution_count": 73
        }
      ],
      "source": [
        "# Train the model\n",
        "classifier.fit(X_train, y_train)"
      ]
    },
    {
      "cell_type": "code",
      "execution_count": 75,
      "metadata": {
        "id": "8a25u34MQZGG",
        "colab": {
          "base_uri": "https://localhost:8080/",
          "height": 424
        },
        "outputId": "7ef33580-ef19-4df0-afae-953248486918"
      },
      "outputs": [
        {
          "output_type": "execute_result",
          "data": {
            "text/plain": [
              "      Prediction  Actual\n",
              "0          False   False\n",
              "1          False   False\n",
              "2          False   False\n",
              "3          False   False\n",
              "4          False   False\n",
              "...          ...     ...\n",
              "3066       False   False\n",
              "3067       False   False\n",
              "3068       False    True\n",
              "3069       False   False\n",
              "3070       False   False\n",
              "\n",
              "[3071 rows x 2 columns]"
            ],
            "text/html": [
              "\n",
              "  <div id=\"df-04f4e8de-f955-4115-95ca-26484635fea9\">\n",
              "    <div class=\"colab-df-container\">\n",
              "      <div>\n",
              "<style scoped>\n",
              "    .dataframe tbody tr th:only-of-type {\n",
              "        vertical-align: middle;\n",
              "    }\n",
              "\n",
              "    .dataframe tbody tr th {\n",
              "        vertical-align: top;\n",
              "    }\n",
              "\n",
              "    .dataframe thead th {\n",
              "        text-align: right;\n",
              "    }\n",
              "</style>\n",
              "<table border=\"1\" class=\"dataframe\">\n",
              "  <thead>\n",
              "    <tr style=\"text-align: right;\">\n",
              "      <th></th>\n",
              "      <th>Prediction</th>\n",
              "      <th>Actual</th>\n",
              "    </tr>\n",
              "  </thead>\n",
              "  <tbody>\n",
              "    <tr>\n",
              "      <th>0</th>\n",
              "      <td>False</td>\n",
              "      <td>False</td>\n",
              "    </tr>\n",
              "    <tr>\n",
              "      <th>1</th>\n",
              "      <td>False</td>\n",
              "      <td>False</td>\n",
              "    </tr>\n",
              "    <tr>\n",
              "      <th>2</th>\n",
              "      <td>False</td>\n",
              "      <td>False</td>\n",
              "    </tr>\n",
              "    <tr>\n",
              "      <th>3</th>\n",
              "      <td>False</td>\n",
              "      <td>False</td>\n",
              "    </tr>\n",
              "    <tr>\n",
              "      <th>4</th>\n",
              "      <td>False</td>\n",
              "      <td>False</td>\n",
              "    </tr>\n",
              "    <tr>\n",
              "      <th>...</th>\n",
              "      <td>...</td>\n",
              "      <td>...</td>\n",
              "    </tr>\n",
              "    <tr>\n",
              "      <th>3066</th>\n",
              "      <td>False</td>\n",
              "      <td>False</td>\n",
              "    </tr>\n",
              "    <tr>\n",
              "      <th>3067</th>\n",
              "      <td>False</td>\n",
              "      <td>False</td>\n",
              "    </tr>\n",
              "    <tr>\n",
              "      <th>3068</th>\n",
              "      <td>False</td>\n",
              "      <td>True</td>\n",
              "    </tr>\n",
              "    <tr>\n",
              "      <th>3069</th>\n",
              "      <td>False</td>\n",
              "      <td>False</td>\n",
              "    </tr>\n",
              "    <tr>\n",
              "      <th>3070</th>\n",
              "      <td>False</td>\n",
              "      <td>False</td>\n",
              "    </tr>\n",
              "  </tbody>\n",
              "</table>\n",
              "<p>3071 rows × 2 columns</p>\n",
              "</div>\n",
              "      <button class=\"colab-df-convert\" onclick=\"convertToInteractive('df-04f4e8de-f955-4115-95ca-26484635fea9')\"\n",
              "              title=\"Convert this dataframe to an interactive table.\"\n",
              "              style=\"display:none;\">\n",
              "        \n",
              "  <svg xmlns=\"http://www.w3.org/2000/svg\" height=\"24px\"viewBox=\"0 0 24 24\"\n",
              "       width=\"24px\">\n",
              "    <path d=\"M0 0h24v24H0V0z\" fill=\"none\"/>\n",
              "    <path d=\"M18.56 5.44l.94 2.06.94-2.06 2.06-.94-2.06-.94-.94-2.06-.94 2.06-2.06.94zm-11 1L8.5 8.5l.94-2.06 2.06-.94-2.06-.94L8.5 2.5l-.94 2.06-2.06.94zm10 10l.94 2.06.94-2.06 2.06-.94-2.06-.94-.94-2.06-.94 2.06-2.06.94z\"/><path d=\"M17.41 7.96l-1.37-1.37c-.4-.4-.92-.59-1.43-.59-.52 0-1.04.2-1.43.59L10.3 9.45l-7.72 7.72c-.78.78-.78 2.05 0 2.83L4 21.41c.39.39.9.59 1.41.59.51 0 1.02-.2 1.41-.59l7.78-7.78 2.81-2.81c.8-.78.8-2.07 0-2.86zM5.41 20L4 18.59l7.72-7.72 1.47 1.35L5.41 20z\"/>\n",
              "  </svg>\n",
              "      </button>\n",
              "      \n",
              "  <style>\n",
              "    .colab-df-container {\n",
              "      display:flex;\n",
              "      flex-wrap:wrap;\n",
              "      gap: 12px;\n",
              "    }\n",
              "\n",
              "    .colab-df-convert {\n",
              "      background-color: #E8F0FE;\n",
              "      border: none;\n",
              "      border-radius: 50%;\n",
              "      cursor: pointer;\n",
              "      display: none;\n",
              "      fill: #1967D2;\n",
              "      height: 32px;\n",
              "      padding: 0 0 0 0;\n",
              "      width: 32px;\n",
              "    }\n",
              "\n",
              "    .colab-df-convert:hover {\n",
              "      background-color: #E2EBFA;\n",
              "      box-shadow: 0px 1px 2px rgba(60, 64, 67, 0.3), 0px 1px 3px 1px rgba(60, 64, 67, 0.15);\n",
              "      fill: #174EA6;\n",
              "    }\n",
              "\n",
              "    [theme=dark] .colab-df-convert {\n",
              "      background-color: #3B4455;\n",
              "      fill: #D2E3FC;\n",
              "    }\n",
              "\n",
              "    [theme=dark] .colab-df-convert:hover {\n",
              "      background-color: #434B5C;\n",
              "      box-shadow: 0px 1px 3px 1px rgba(0, 0, 0, 0.15);\n",
              "      filter: drop-shadow(0px 1px 2px rgba(0, 0, 0, 0.3));\n",
              "      fill: #FFFFFF;\n",
              "    }\n",
              "  </style>\n",
              "\n",
              "      <script>\n",
              "        const buttonEl =\n",
              "          document.querySelector('#df-04f4e8de-f955-4115-95ca-26484635fea9 button.colab-df-convert');\n",
              "        buttonEl.style.display =\n",
              "          google.colab.kernel.accessAllowed ? 'block' : 'none';\n",
              "\n",
              "        async function convertToInteractive(key) {\n",
              "          const element = document.querySelector('#df-04f4e8de-f955-4115-95ca-26484635fea9');\n",
              "          const dataTable =\n",
              "            await google.colab.kernel.invokeFunction('convertToInteractive',\n",
              "                                                     [key], {});\n",
              "          if (!dataTable) return;\n",
              "\n",
              "          const docLinkHtml = 'Like what you see? Visit the ' +\n",
              "            '<a target=\"_blank\" href=https://colab.research.google.com/notebooks/data_table.ipynb>data table notebook</a>'\n",
              "            + ' to learn more about interactive tables.';\n",
              "          element.innerHTML = '';\n",
              "          dataTable['output_type'] = 'display_data';\n",
              "          await google.colab.output.renderOutput(dataTable, element);\n",
              "          const docLink = document.createElement('div');\n",
              "          docLink.innerHTML = docLinkHtml;\n",
              "          element.appendChild(docLink);\n",
              "        }\n",
              "      </script>\n",
              "    </div>\n",
              "  </div>\n",
              "  "
            ]
          },
          "metadata": {},
          "execution_count": 75
        }
      ],
      "source": [
        "# Use the testing data to make predictions.\n",
        "predictions = classifier.predict(X_test)\n",
        "\n",
        "pd.DataFrame({\"Prediction\": predictions, \"Actual\": y_test}).reset_index(drop=True)"
      ]
    },
    {
      "cell_type": "code",
      "execution_count": 76,
      "metadata": {
        "id": "QrPXI8aYQZGG",
        "colab": {
          "base_uri": "https://localhost:8080/"
        },
        "outputId": "d76af95d-40ee-47c6-cf3f-c7292cf61f63"
      },
      "outputs": [
        {
          "output_type": "stream",
          "name": "stdout",
          "text": [
            "Training Data Score: 0.882544507164568\n",
            "Testing Data Score: 0.8922175187235428\n"
          ]
        }
      ],
      "source": [
        "# Calculate the accuracy. \n",
        "print(f\"Training Data Score: {classifier.score(X_train, y_train)}\")\n",
        "print(f\"Testing Data Score: {classifier.score(X_test, y_test)}\")"
      ]
    },
    {
      "cell_type": "code",
      "execution_count": 77,
      "metadata": {
        "id": "68hwvdoTQZGG",
        "colab": {
          "base_uri": "https://localhost:8080/"
        },
        "outputId": "e69ef4a5-1580-4dd1-f5d3-2631aa8007b8"
      },
      "outputs": [
        {
          "output_type": "execute_result",
          "data": {
            "text/plain": [
              "array([[2536,   58],\n",
              "       [ 273,  204]])"
            ]
          },
          "metadata": {},
          "execution_count": 77
        }
      ],
      "source": [
        "# Print the confusion matrix.\n",
        "\n",
        "from sklearn.metrics import confusion_matrix\n",
        "confusion_matrix(y_test, predictions)"
      ]
    },
    {
      "cell_type": "code",
      "execution_count": 78,
      "metadata": {
        "id": "gitkoDmDQZGG",
        "colab": {
          "base_uri": "https://localhost:8080/"
        },
        "outputId": "58f33956-9876-476a-f332-6db5d873c8ea"
      },
      "outputs": [
        {
          "output_type": "stream",
          "name": "stdout",
          "text": [
            "              precision    recall  f1-score   support\n",
            "\n",
            "       False       0.90      0.98      0.94      2594\n",
            "        True       0.78      0.43      0.55       477\n",
            "\n",
            "    accuracy                           0.89      3071\n",
            "   macro avg       0.84      0.70      0.75      3071\n",
            "weighted avg       0.88      0.89      0.88      3071\n",
            "\n"
          ]
        }
      ],
      "source": [
        "# Print a classification report\n",
        "from sklearn.metrics import classification_report\n",
        "print(classification_report(y_test, predictions))"
      ]
    },
    {
      "cell_type": "markdown",
      "metadata": {
        "id": "QBRlizQkQZGH"
      },
      "source": [
        "## Overall Model Performance\n",
        "----\n",
        "\n",
        "- **Question:** Can the logistic regression model predict whether visiting a website will result in a purchase? \n",
        "\n",
        "- **Answer:**  Yes, We had an accuracy of 89% which can improve with tuning hyperparameters  \n"
      ]
    },
    {
      "cell_type": "code",
      "execution_count": null,
      "metadata": {
        "id": "1aU5I4MkQZGH"
      },
      "outputs": [],
      "source": []
    }
  ],
  "metadata": {
    "kernelspec": {
      "display_name": "PythonDataSci",
      "language": "python",
      "name": "pythondatasci"
    },
    "language_info": {
      "codemirror_mode": {
        "name": "ipython",
        "version": 3
      },
      "file_extension": ".py",
      "mimetype": "text/x-python",
      "name": "python",
      "nbconvert_exporter": "python",
      "pygments_lexer": "ipython3",
      "version": "3.8.12"
    },
    "colab": {
      "provenance": []
    }
  },
  "nbformat": 4,
  "nbformat_minor": 0
}